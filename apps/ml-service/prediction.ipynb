{
 "cells": [
  {
   "cell_type": "code",
   "execution_count": 74,
   "metadata": {},
   "outputs": [],
   "source": [
    "import pickle\n",
    "import pandas as pd\n",
    "\n",
    "# loading the pretrained model\n",
    "with open('./models/random-forest.pkl', 'rb') as file:\n",
    "    model = pickle.load(file)\n",
    "\n",
    "# loading and preprocessing the source data\n",
    "df = pd.read_csv(\"./data/data_pred.csv\", sep=\",\")\n",
    "\n",
    "future_rows = df.loc[df['is_future'] == True]\n",
    "future_rows = future_rows.drop(columns=['is_future'])\n",
    "\n",
    "def predict_alarm(row): \n",
    "    params = row.drop(['is_alarm', 'city_label', 'hour_datetime_label', 'is_alarm'])\n",
    "    params = params.values.reshape(1, -1)\n",
    "    pred_res = model.predict(params)[0]\n",
    "    if (pred_res == True):\n",
    "        future_rows.loc[future_rows['city'] == row['city'], 'events_last_24h'] += 1; \n",
    "    return pred_res\n",
    "\n",
    "future_rows['is_alarm'] = future_rows.apply(predict_alarm, axis=1)\n",
    "\n",
    "future_rows.to_csv(\"data/data_result.csv\", index=False, columns=['city_label', 'hour_datetime_label', 'is_alarm', 'events_last_24h'])"
   ]
  }
 ],
 "metadata": {
  "kernelspec": {
   "display_name": "Python 3",
   "language": "python",
   "name": "python3"
  },
  "language_info": {
   "codemirror_mode": {
    "name": "ipython",
    "version": 3
   },
   "file_extension": ".py",
   "mimetype": "text/x-python",
   "name": "python",
   "nbconvert_exporter": "python",
   "pygments_lexer": "ipython3",
   "version": "3.9.6"
  },
  "orig_nbformat": 4
 },
 "nbformat": 4,
 "nbformat_minor": 2
}
